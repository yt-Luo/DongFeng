{
 "cells": [
  {
   "cell_type": "code",
   "execution_count": null,
   "metadata": {},
   "outputs": [],
   "source": [
    "import pandas as pd"
   ]
  },
  {
   "cell_type": "code",
   "execution_count": null,
   "metadata": {},
   "outputs": [],
   "source": [
    "#讀excel\n",
    "df_orderData = pd.read_excel('oea_oeb_old.xlsx', sheet_name = 0)\n",
    "df_orderData1 = pd.read_excel('oea_oeb_new.xlsx', sheet_name = 0)"
   ]
  },
  {
   "cell_type": "code",
   "execution_count": null,
   "metadata": {},
   "outputs": [],
   "source": [
    "df = pd.DataFrame(df_orderData,columns=['OEB01','OEB03','OEB15','OEB16','OEA02','OEA14','TC_SFA104'])\n",
    "df"
   ]
  },
  {
   "cell_type": "code",
   "execution_count": null,
   "metadata": {},
   "outputs": [],
   "source": [
    "df[\"pk\"] = df[\"OEB01\"] + \"_\" + df[\"OEB03\"].map(str)\n",
    "df"
   ]
  },
  {
   "cell_type": "code",
   "execution_count": null,
   "metadata": {},
   "outputs": [],
   "source": [
    "df1 = pd.DataFrame(df_orderData1,columns=['OEB01','OEB03','OEB15','OEB16','OEA02','OEA14','TC_SFA104'])\n",
    "df1"
   ]
  },
  {
   "cell_type": "code",
   "execution_count": null,
   "metadata": {},
   "outputs": [],
   "source": [
    "df1[\"pk\"] = df1[\"OEB01\"] + \"_\" + df1[\"OEB03\"].map(str)\n",
    "df1"
   ]
  },
  {
   "cell_type": "code",
   "execution_count": null,
   "metadata": {},
   "outputs": [],
   "source": [
    "tmp = df.append(df1)\n",
    "tmp.drop_duplicates(keep=False, inplace=True)\n",
    "all_diff=pd.DataFrame(tmp)\n",
    "all_diff"
   ]
  },
  {
   "cell_type": "code",
   "execution_count": null,
   "metadata": {},
   "outputs": [],
   "source": [
    "last = all_diff.drop_duplicates(subset=['pk'],keep='last')\n",
    "last"
   ]
  },
  {
   "cell_type": "code",
   "execution_count": null,
   "metadata": {},
   "outputs": [],
   "source": [
    "first = all_diff.drop_duplicates(subset=['pk'],keep='first')\n",
    "first"
   ]
  },
  {
   "cell_type": "code",
   "execution_count": null,
   "metadata": {},
   "outputs": [],
   "source": [
    "pk_diff = all_diff.drop_duplicates(subset=['pk'],keep=False)\n",
    "pk_diff"
   ]
  },
  {
   "cell_type": "code",
   "execution_count": null,
   "metadata": {},
   "outputs": [],
   "source": [
    "new = last.append(pk_diff).drop_duplicates(subset=['pk'],keep=False)\n",
    "new"
   ]
  },
  {
   "cell_type": "code",
   "execution_count": null,
   "metadata": {},
   "outputs": [],
   "source": [
    "old = first.append(pk_diff).drop_duplicates(subset=['pk'],keep=False)\n",
    "old"
   ]
  },
  {
   "cell_type": "code",
   "execution_count": null,
   "metadata": {},
   "outputs": [],
   "source": [
    "merged_data = new.merge(old,on = ['pk','OEB01','OEB03','OEB15','OEA02','OEA14','TC_SFA104'], suffixes=('_new','_old') )\n",
    "merged_data"
   ]
  },
  {
   "cell_type": "code",
   "execution_count": null,
   "metadata": {},
   "outputs": [],
   "source": [
    "merged_data = new.merge(old,on = ['pk','OEB01','OEB03','OEB15','OEA02','OEA14'], suffixes=('_new','_old') )\n",
    "merged_data"
   ]
  },
  {
   "cell_type": "code",
   "execution_count": null,
   "metadata": {},
   "outputs": [],
   "source": [
    "merged_data.info()"
   ]
  },
  {
   "cell_type": "code",
   "execution_count": null,
   "metadata": {},
   "outputs": [],
   "source": [
    "import datetime\n",
    "# 抓完工日 = 預計下機日 + 10天\n",
    "date_of_completion = merged_data['TC_SFA104_new'] + datetime.timedelta(days = 10)\n",
    "# 當預計完工日超過約定交貨日時，表示可能來不及交貨\n",
    "delayed_data = merged_data[date_of_completion > merged_data['OEB15']]\n",
    "delayed_data"
   ]
  },
  {
   "cell_type": "code",
   "execution_count": null,
   "metadata": {},
   "outputs": [],
   "source": [
    "delayed_data = delayed_data[delayed_data['OEB16_new'] != delayed_data['OEB16_old']].copy()\n",
    "delayed_data"
   ]
  },
  {
   "cell_type": "code",
   "execution_count": null,
   "metadata": {},
   "outputs": [],
   "source": [
    "#final = delayed_data1.loc[:, ['OEA14','OEA02','OEB01','OEB03','OEB15','OEB16_old','OEB16_new','TC_SFA104_old','TC_SFA104_new']]\n",
    "final = delayed_data.loc[:, ['OEA14','OEA02','OEB01','OEB03','OEB15','OEB16_old','OEB16_new', 'TC_SFA104_new']]\n",
    "final"
   ]
  },
  {
   "cell_type": "code",
   "execution_count": null,
   "metadata": {},
   "outputs": [],
   "source": [
    "final.sort_values(['OEA14','OEB01'], inplace = True, ignore_index=True) # 依照業務編號、訂單編號做遞增排序\n",
    "final.rename(columns={'OEA02': '訂單日期', 'OEA14': '業務編號', 'OEB01': '訂單號碼', 'OEB03': '項次', 'OEB15': '約定交貨日', 'OEB16_old': '原排定交貨日', 'OEB16_new': '新排定交貨日','TC_SFA104_new':\"約定下機日\"}, inplace=True)\n",
    "final"
   ]
  },
  {
   "cell_type": "code",
   "execution_count": null,
   "metadata": {},
   "outputs": [],
   "source": [
    "#dataframe轉html\n",
    "df_html = final.to_html(escape=False,index=False, justify = 'center')"
   ]
  },
  {
   "cell_type": "code",
   "execution_count": null,
   "metadata": {},
   "outputs": [],
   "source": [
    "# 當沒有符合判斷條件的資料時，回傳None\n",
    "if final.empty == True:\n",
    "    return None\n",
    "# 回傳final的html格式\n",
    "return df_html"
   ]
  },
  {
   "cell_type": "code",
   "execution_count": null,
   "metadata": {},
   "outputs": [],
   "source": [
    "def read_file(file):\n",
    "    with open(file,'r',encoding=\"utf-8\") as f:\n",
    "            content_list = f.read().split('\\n')\n",
    "    return content_list\n",
    "emails = read_file('email.txt')\n",
    "emails"
   ]
  },
  {
   "cell_type": "code",
   "execution_count": null,
   "metadata": {},
   "outputs": [],
   "source": [
    "\n",
    "recipients = [emails[2]]\n",
    "\n",
    "recipients "
   ]
  },
  {
   "cell_type": "code",
   "execution_count": null,
   "metadata": {},
   "outputs": [],
   "source": [
    "a=emails[2].split(', ')\n",
    "a"
   ]
  },
  {
   "cell_type": "code",
   "execution_count": null,
   "metadata": {},
   "outputs": [],
   "source": [
    "from email.mime.multipart import MIMEMultipart\n",
    "from email.mime.text import MIMEText#專門傳送正文\n",
    "from email.mime.image import MIMEImage\n",
    "import sys\n",
    "import smtplib\n",
    "import datetime\n",
    "\n",
    "def SendMail():\n",
    "    #print('start to send mail...')\n",
    "    emails = read_file('email.txt') #讀email資料\n",
    "    sender = emails[0] #step1:setup sender gmail,ex:\"Fene1977@superrito.com\"\n",
    "    password = emails[1] #step2:setup sender gmail password\n",
    "    recipients = emails[2].split(', ') #step3:setup recipients mail\n",
    "    today = datetime.date.today()\n",
    "    sub = today.strftime(\"%m/%d\") + \"訂單交期更改通知\" #step4:setup your subject\n",
    "    \n",
    "    #單個收件人,ex:recipients = 'Fene1977@dayrep.com'  \n",
    "    #多個收件人,ex:\"Hinte1969@jourrapide.com,Fene1977@rhyta.com,Fene1977@teleworm.us\"\n",
    "    \n",
    "    outer = MIMEMultipart()\n",
    "    outer['From'] = sender #step:setup sender gmail\n",
    "    outer['To'] = ','.join(recipients) #step:setup recipient mail\n",
    "    #outer[\"Cc\"]=\"cc mail\" #step:setup cc mail\n",
    "    outer['Subject'] = sub #step:setup your subject\n",
    "\n",
    "    #設定純文字資訊\n",
    "    plainText = \"偵測到訂單排定交貨日更改，請確認以下訂單：\"\n",
    "    msgText = MIMEText(plainText, 'plain', 'utf-8')\n",
    "    outer.attach(msgText)\n",
    "    #設定HTML資訊\n",
    "    #htmlText = df_html #step7:edit your mail content\n",
    "    #msgText = MIMEText(htmlText, 'html', 'utf-8')\n",
    "    #outer.attach(msgText)\n",
    "\n",
    "    mailBody = outer.as_string()\n",
    "    #-----------------------------------------------------------------------\n",
    "    \n",
    "    # 寄送EMAIL\n",
    "    try:\n",
    "        with smtplib.SMTP(host=\"smtp.gmail.com\", port=\"587\") as s: #send webservice to gmail smtp socket\n",
    "            s.ehlo()  # 驗證SMTP伺服器\n",
    "            s.starttls()  # 建立加密傳輸\n",
    "            s.login(sender, password)  # 登入寄件者gmail\n",
    "            s.sendmail(sender, recipients,mailBody)  # 寄送郵件\n",
    "            s.close()\n",
    "        print(\"Email sent!\")\n",
    "    except:\n",
    "        print(\"Unable to send the email. Error: \", sys.exc_info()[0])\n",
    "        raise\n",
    "       \n",
    "SendMail()"
   ]
  },
  {
   "cell_type": "code",
   "execution_count": null,
   "metadata": {},
   "outputs": [],
   "source": [
    "import os\n",
    "def remove_file(file_name):\n",
    "    try:\n",
    "        os.remove(file_name)\n",
    "    except OSError as e:\n",
    "        print(e)\n",
    "    else:\n",
    "        print(\"File is deleted successfully\")\n",
    "file_name = file2\n",
    "remove_file(file_name)"
   ]
  },
  {
   "cell_type": "code",
   "execution_count": null,
   "metadata": {},
   "outputs": [],
   "source": [
    "def read_file(file):\n",
    "    with open(file,'r',encoding=\"utf-8\") as f:\n",
    "            content_list = f.read().split('\\n')\n",
    "    return content_list\n",
    "fileName = read_file('fileName.txt')\n",
    "fileName[1]"
   ]
  },
  {
   "cell_type": "code",
   "execution_count": null,
   "metadata": {},
   "outputs": [],
   "source": [
    "import shutil\n",
    "def copy_file1_as_file2(file1, file2):\n",
    "    try:\n",
    "        shutil.copyfile(file1, file2)\n",
    "        print(\"Copy %s as %s successfully\"%(file1, file2))\n",
    "    except OSError as err:\n",
    "        print(err)\n",
    "\n",
    "file1 = fileName[0]\n",
    "file2 = fileName[2]\n",
    "\n",
    "copy_file1_as_file2(file1, file2)"
   ]
  },
  {
   "cell_type": "code",
   "execution_count": null,
   "metadata": {},
   "outputs": [],
   "source": [
    "import pandas as pd\n",
    "#import numpy as np\n",
    "from tqdm import tqdm\n",
    "for i in tqdm(range(0,2), ncols = 100, desc =\"Loading data...\"): \n",
    "    df_orderData = pd.read_excel('oea_oeb_old.xlsx', sheet_name = 0)\n",
    "    df_orderData = pd.read_excel('oea_oeb_new.xlsx', sheet_name = 0)\n",
    "print(\"------Loading is completed ------\")\n",
    "df = pd.DataFrame(df_orderData,columns=['OEB01','OEB03','OEB15','OEB16','OEA02','OEA14','TC_SFA104'])   \n",
    "\n"
   ]
  }
 ],
 "metadata": {
  "interpreter": {
   "hash": "669c57335d814790a0a8ea20dc08c100929a5b6e7176d5937f3f567eb2cddf61"
  },
  "kernelspec": {
   "display_name": "Python 3.7.9 64-bit",
   "name": "python3"
  },
  "language_info": {
   "name": "python",
   "version": ""
  },
  "metadata": {
   "interpreter": {
    "hash": "1491acfe82417c39812fcfc2d7e73cf9f2136c4efd41b14264d5ca85f4495781"
   }
  }
 },
 "nbformat": 4,
 "nbformat_minor": 4
}