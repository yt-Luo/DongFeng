{
 "cells": [
  {
   "cell_type": "code",
   "execution_count": 1,
   "metadata": {},
   "outputs": [],
   "source": [
    "import pandas as pd\n",
    "from email.mime.multipart import MIMEMultipart\n",
    "from email.mime.text import MIMEText #專門傳送正文\n",
    "import smtplib\n",
    "import sys\n",
    "import datetime\n",
    "import os\n",
    "import shutil\n",
    "import warnings"
   ]
  },
  {
   "cell_type": "code",
   "execution_count": 2,
   "metadata": {},
   "outputs": [],
   "source": [
    "#讀excel\n",
    "def load_data(file_name, sheet_num=0):\n",
    "    \n",
    "    with warnings.catch_warnings(record=True):  #消除warning\n",
    "        warnings.simplefilter(\"always\")\n",
    "        try:\n",
    "            df_orderData = pd.read_excel(file_name, sheet_name = sheet_num, engine=\"openpyxl\")\n",
    "            df_data = pd.DataFrame(df_orderData,columns=['OEB01','OEB03','OEB15','OEB16','OEA02','OEA14','TC_SFA104'])\n",
    "            df_data[\"pk\"] = df_data[\"OEB01\"] + \"_\" + df_data[\"OEB03\"].map(str) # pk(不能重複) = 訂單編號 + 項次\n",
    "            return df_data\n",
    "        except Exception as e:\n",
    "            print(e)\n",
    "   "
   ]
  },
  {
   "cell_type": "code",
   "execution_count": 3,
   "metadata": {},
   "outputs": [],
   "source": [
    "# 資料處理\r\n",
    "def data_process(df, df1):\r\n",
    "    \r\n",
    "    # 找昨天跟今天所有不重複的資料(含交期更改前後pk相同的訂單)\r\n",
    "    tmp = df.append(df1)\r\n",
    "    tmp.drop_duplicates(keep=False, inplace=True)\r\n",
    "    all_diff =pd.DataFrame(tmp)\r\n",
    "    \r\n",
    "    # 找昨天跟今天所有pk不重複的資料\r\n",
    "    last = all_diff.drop_duplicates(subset=['pk'],keep='last') # 含交期更改後的訂單，不含交期更改前的訂單\r\n",
    "    first = all_diff.drop_duplicates(subset=['pk'],keep='first') # 含交期更改前的訂單，不含交期更改後的訂單\r\n",
    "    pk_diff = all_diff.drop_duplicates(subset=['pk'],keep=False) # 不含交期被更改過的所有訂單\r\n",
    "    \r\n",
    "    # 找被改過交期的資料\r\n",
    "    new = last.append(pk_diff).drop_duplicates(subset=['pk'],keep=False) # 今天所有被更改過交期的資料\r\n",
    "    old = first.append(pk_diff).drop_duplicates(subset=['pk'],keep=False) # 昨天所有被更改過交期的資料\r\n",
    "    \r\n",
    "    # 合併兩天所有被更改過交期的資料\r\n",
    "    merged_data = new.merge(old,on = ['pk','OEB01','OEB03','OEB15','OEA02','OEA14'], suffixes=('_new','_old') )\r\n",
    "    # 抓完工日 = 預計下機日 + 10天\r\n",
    "    date_of_completion = merged_data['TC_SFA104_new'] + datetime.timedelta(days = 10)\r\n",
    "    # 找出可能來不及交貨的資料 (當預計完工日超過約定交貨日時)\r\n",
    "    delayed_data = merged_data[date_of_completion > merged_data['OEB15']]\r\n",
    "        \r\n",
    "    # 當沒有可能遲交的訂單時，回傳None\r\n",
    "    if delayed_data.empty == True:\r\n",
    "        return None\r\n",
    "    \r\n",
    "    # 最後要寄給業務的通知內容\r\n",
    "    final = delayed_data.loc[:, ['OEA14','OEA02','OEB01','OEB03','OEB15','OEB16_old','OEB16_new', 'TC_SFA104_new']]\r\n",
    "    final.sort_values(['OEA14','OEB01'], inplace = True, ignore_index=True) # 依照業務編號、訂單編號做遞增排序    \r\n",
    "    final.rename(columns={'OEA02': '訂單日期', 'OEA14': '業務編號', 'OEB01': '訂單號碼', 'OEB03': '項次', 'OEB15': '約定交貨日', 'OEB16_old': '原排定交貨日', 'OEB16_new': '新排定交貨日', 'TC_SFA104_new': '預計下機日'}, inplace=True)\r\n",
    "    final.index = final.index + 1 # index從1開始\r\n",
    "    \r\n",
    "    #dataframe轉html\r\n",
    "    df_html = final.to_html(escape=False,index=True, justify = 'center')\r\n",
    "    \r\n",
    "    # 回傳final的html格式\r\n",
    "    return df_html"
   ]
  },
  {
   "cell_type": "code",
   "execution_count": 4,
   "metadata": {},
   "outputs": [],
   "source": [
    "def read_file(file):\n",
    "    try:\n",
    "        with open(file,'r',encoding=\"utf-8\") as f:\n",
    "            content_list = f.read().split('\\n')\n",
    "        return content_list\n",
    "        \n",
    "    except OSError as err:\n",
    "        print(\"OS error: {0}\".format(err))\n",
    "    except:\n",
    "        print(\"Unexpected error:\", sys.exc_info()[0])\n",
    "        raise"
   ]
  },
  {
   "cell_type": "code",
   "execution_count": 5,
   "metadata": {},
   "outputs": [],
   "source": [
    "def SendMail(msg_html):\n",
    "    #print('start to send mail...')\n",
    "    emails = read_file('email.txt') #讀email資料\n",
    "    sender = emails[0] #setup sender gmail,ex:\"Fene1977@superrito.com\"\n",
    "    password = emails[1] #setup sender gmail password\n",
    "    recipients= emails[2].split(', ') #setup recipients mail\n",
    "    today_date = datetime.date.today() \n",
    "    sub = today_date.strftime(\"%m/%d\") + \"訂單交期更改通知\" #step4:setup your subject\n",
    "    \n",
    "    outer = MIMEMultipart()\n",
    "    outer['From'] = sender #setup sender gmail\n",
    "    outer['To'] =  ','.join(recipients) #setup recipient mail\n",
    "    #outer[\"Cc\"] = cc_mail #setup cc mail\n",
    "    outer['Subject'] = sub #setup your subject\n",
    "\n",
    "    #設定純文字資訊\n",
    "    plainText = \"偵測到訂單排定交貨日更改，且預計下機日與約定交貨日差距小於10天，請確認以下訂單：\"\n",
    "    msgText = MIMEText(plainText, 'plain', 'utf-8')\n",
    "    outer.attach(msgText)\n",
    "    \n",
    "    #設定HTML資訊\n",
    "    htmlText = msg_html #step7:edit your mail content\n",
    "    msgText = MIMEText(htmlText, 'html', 'utf-8')\n",
    "    outer.attach(msgText)\n",
    "\n",
    "    mailBody = outer.as_string()\n",
    "    #-----------------------------------------------------------------------\n",
    "    # 寄送EMAIL\n",
    "    try:\n",
    "        with smtplib.SMTP(host=\"smtp.gmail.com\", port=\"587\") as s: #send webservice to gmail smtp socket\n",
    "            s.ehlo()  # 驗證SMTP伺服器\n",
    "            s.starttls()  # 建立加密傳輸\n",
    "            s.login(sender, password)  # 登入寄件者gmail\n",
    "            s.sendmail(sender, recipients,mailBody)  # 寄送郵件\n",
    "            s.close()\n",
    "        print(\"Email sent!\")\n",
    "    except:\n",
    "        print(\"Unable to send the email. Error: \", sys.exc_info()[0])\n",
    "        raise"
   ]
  },
  {
   "cell_type": "code",
   "execution_count": 6,
   "metadata": {},
   "outputs": [],
   "source": [
    "def remove_file(file_name):\n",
    "    try:\n",
    "        os.remove(file_name)\n",
    "    except OSError as e:\n",
    "        print(e)\n",
    "    else:\n",
    "        print(\"Delete %s successfully.\"%(file_name))"
   ]
  },
  {
   "cell_type": "code",
   "execution_count": 7,
   "metadata": {},
   "outputs": [],
   "source": [
    "# copy file1 as file2\n",
    "def copy_file(file1, file2):\n",
    "    try:\n",
    "        shutil.copyfile(file1, file2)\n",
    "        print(\"Copy %s as %s successfully.\"%(file1, file2))\n",
    "    except OSError as err:\n",
    "        print(err)"
   ]
  },
  {
   "cell_type": "code",
   "execution_count": 8,
   "metadata": {},
   "outputs": [],
   "source": [
    "def main():\r\n",
    "    print('資料載入中...')\r\n",
    "    fileNames = read_file('fileName.txt') #取得欲分析之檔案名稱\r\n",
    "    yesterday = load_data(fileNames[0])\r\n",
    "    today = load_data(fileNames[1])\r\n",
    "    print('資料處理中...')\r\n",
    "    # 取得資料處理回傳結果\r\n",
    "    mail_content = data_process(yesterday, today)\r\n",
    "    # 當回傳結果為None時，表示沒有符合條件的訂單；有回傳內容則以email寄出回傳內容\r\n",
    "    if mail_content == None:\r\n",
    "        print(\"沒有符合條件的訂單\")\r\n",
    "    else:\r\n",
    "        print(\"找到需要通知的訂單\")\r\n",
    "        SendMail(mail_content)        \r\n",
    "   \r\n",
    "    #copy_file(fileNames[1], fileNames[0]) # 將今天的檔案轉換為下次分析時昨天的檔案\r\n",
    "    #remove_file(fileNames[1]) #刪除今天的檔案\r\n",
    "\r\n",
    "    input(\"請按任意鍵結束...\") # 讓視窗停留，不要馬上關閉"
   ]
  },
  {
   "cell_type": "code",
   "execution_count": 9,
   "metadata": {
    "scrolled": true
   },
   "outputs": [
    {
     "name": "stdout",
     "output_type": "stream",
     "text": [
      "資料載入中...\n",
      "資料處理中...\n",
      "Email sent!\n",
      "交期已被更改\n",
      "請按任意鍵結束...\n"
     ]
    }
   ],
   "source": [
    "main()"
   ]
  },
  {
   "cell_type": "code",
   "execution_count": null,
   "metadata": {},
   "outputs": [],
   "source": []
  }
 ],
 "metadata": {
  "kernelspec": {
   "display_name": "Python 3",
   "language": "python",
   "name": "python3"
  },
  "language_info": {
   "codemirror_mode": {
    "name": "ipython",
    "version": 3
   },
   "file_extension": ".py",
   "mimetype": "text/x-python",
   "name": "python",
   "nbconvert_exporter": "python",
   "pygments_lexer": "ipython3",
   "version": "3.8.3"
  }
 },
 "nbformat": 4,
 "nbformat_minor": 5
}