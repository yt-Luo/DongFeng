{
 "cells": [
  {
   "cell_type": "code",
   "execution_count": 1,
   "metadata": {},
   "outputs": [],
   "source": [
    "import pandas as pd\n",
    "from email.mime.multipart import MIMEMultipart\n",
    "from email.mime.text import MIMEText #專門傳送正文\n",
    "import smtplib\n",
    "import sys\n",
    "import datetime\n",
    "import os\n",
    "import shutil\n",
    "import warnings"
   ]
  },
  {
   "cell_type": "code",
   "execution_count": 2,
   "metadata": {},
   "outputs": [],
   "source": [
    "#讀excel\n",
    "def load_data(file_name, sheet_num=0):\n",
    "    \n",
    "    with warnings.catch_warnings(record=True):  #消除warning\n",
    "        warnings.simplefilter(\"always\")\n",
    "        try:\n",
    "            df_orderData = pd.read_excel(file_name, sheet_name = sheet_num, engine=\"openpyxl\")\n",
    "            df_data = pd.DataFrame(df_orderData,columns=['OEB01','OEB03','OEB15','OEB16','OEA02','OEA14','TC_SFA104'])\n",
    "            return df_data\n",
    "        except Exception as e:\n",
    "            print(e)\n",
    "   "
   ]
  },
  {
   "cell_type": "code",
   "execution_count": 3,
   "metadata": {},
   "outputs": [],
   "source": [
    "# 資料處理\r\n",
    "def data_process(df):\r\n",
    "    \r\n",
    "    final = df[df['OEB15']< df['TC_SFA104'] + datetime.timedelta(days = 10)]\r\n",
    "    \r\n",
    "    \r\n",
    "    # 最後要寄給業務的通知內容\r\n",
    "    final = final.loc[:, ['OEA14','OEA02','OEB01','OEB03','OEB15','OEB16','TC_SFA104']]\r\n",
    "    final.sort_values(['OEA14','TC_SFA104'], inplace = True, ignore_index=True) # 依照業務編號、訂單日期做遞增排序    \r\n",
    "    final.rename(columns={'OEA02': '訂單日期', 'OEA14': '業務編號', 'OEB01': '訂單號碼', 'OEB03': '項次', 'OEB15': '約定交貨日', 'OEB16': '排定交貨日', 'TC_SFA104': '預計下機日'}, inplace=True)\r\n",
    "    final.index = final.index + 1\r\n",
    "    \r\n",
    "    \r\n",
    "    #dataframe轉html\r\n",
    "    df_html = final.to_html(escape=False,index=True, justify = 'center')\r\n",
    "    \r\n",
    "    # 回傳final的html格式\r\n",
    "    return df_html"
   ]
  },
  {
   "cell_type": "code",
   "execution_count": 4,
   "metadata": {},
   "outputs": [],
   "source": [
    "def read_file(file):\n",
    "    try:\n",
    "        with open(file,'r',encoding=\"utf-8\") as f:\n",
    "            content_list = f.read().split('\\n')\n",
    "        return content_list\n",
    "        \n",
    "    except OSError as err:\n",
    "        print(\"OS error: {0}\".format(err))\n",
    "    except:\n",
    "        print(\"Unexpected error:\", sys.exc_info()[0])\n",
    "        raise"
   ]
  },
  {
   "cell_type": "code",
   "execution_count": 5,
   "metadata": {},
   "outputs": [],
   "source": [
    "def SendMail(msg_html):\n",
    "    #print('start to send mail...')\n",
    "    emails = read_file('email.txt') #讀email資料\n",
    "    sender = emails[0] #setup sender gmail,ex:\"Fene1977@superrito.com\"\n",
    "    password = emails[1] #setup sender gmail password\n",
    "    recipients= emails[2].split(', ') #setup recipients mail\n",
    "    today_date = datetime.date.today() \n",
    "    sub = today_date.strftime(\"%m/%d\") + \"訂單交期通知\" #step4:setup your subject\n",
    "    \n",
    "    outer = MIMEMultipart()\n",
    "    outer['From'] = sender #setup sender gmail\n",
    "    outer['To'] =  ','.join(recipients) #setup recipient mail\n",
    "    #outer[\"Cc\"] = cc_mail #setup cc mail\n",
    "    outer['Subject'] = sub #setup your subject\n",
    "\n",
    "    #設定純文字資訊\n",
    "    plainText = \"偵測到訂單排定交貨日更改，請確認以下訂單：\"\n",
    "    msgText = MIMEText(plainText, 'plain', 'utf-8')\n",
    "    outer.attach(msgText)\n",
    "    \n",
    "    #設定HTML資訊\n",
    "    htmlText = msg_html #step7:edit your mail content\n",
    "    msgText = MIMEText(htmlText, 'html', 'utf-8')\n",
    "    outer.attach(msgText)\n",
    "\n",
    "    mailBody = outer.as_string()\n",
    "    #-----------------------------------------------------------------------\n",
    "    # 寄送EMAIL\n",
    "    try:\n",
    "        with smtplib.SMTP(host=\"smtp.gmail.com\", port=\"587\") as s: #send webservice to gmail smtp socket\n",
    "            s.ehlo()  # 驗證SMTP伺服器\n",
    "            s.starttls()  # 建立加密傳輸\n",
    "            s.login(sender, password)  # 登入寄件者gmail\n",
    "            s.sendmail(sender, recipients,mailBody)  # 寄送郵件\n",
    "            s.close()\n",
    "        print(\"Email sent!\")\n",
    "    except:\n",
    "        print(\"Unable to send the email. Error: \", sys.exc_info()[0])\n",
    "        raise"
   ]
  },
  {
   "cell_type": "code",
   "execution_count": 6,
   "metadata": {},
   "outputs": [],
   "source": [
    "def main():\n",
    "    print('資料載入中...')\n",
    "    fileNames = read_file('fileName.txt') #取得欲分析之檔案名稱\n",
    "    today = load_data(fileNames[0])\n",
    "    print('資料處理中...')\n",
    "    # 取得資料處理回傳結果\n",
    "    mail_content = data_process(today)\n",
    "    # 當回傳結果為None時，表交期未修改；有回傳內容則以email寄出回傳內容\n",
    "    if mail_content == None:\n",
    "        print(\"交期未更改\")\n",
    "    else:\n",
    "        SendMail(mail_content)\n",
    "        print(\"交期已被更改\")\n",
    "   \n",
    "    \n",
    "    \n",
    "\n",
    "    input(\"請按任意鍵結束...\") # 讓視窗停留，不要馬上關閉"
   ]
  },
  {
   "cell_type": "code",
   "execution_count": 7,
   "metadata": {
    "scrolled": true
   },
   "outputs": [
    {
     "name": "stdout",
     "output_type": "stream",
     "text": [
      "資料載入中...\n",
      "資料處理中...\n",
      "Email sent!\n",
      "交期已被更改\n",
      "請按任意鍵結束...\n"
     ]
    }
   ],
   "source": [
    "main()"
   ]
  },
  {
   "cell_type": "code",
   "execution_count": null,
   "metadata": {},
   "outputs": [],
   "source": []
  }
 ],
 "metadata": {
  "kernelspec": {
   "display_name": "Python 3",
   "language": "python",
   "name": "python3"
  },
  "language_info": {
   "codemirror_mode": {
    "name": "ipython",
    "version": 3
   },
   "file_extension": ".py",
   "mimetype": "text/x-python",
   "name": "python",
   "nbconvert_exporter": "python",
   "pygments_lexer": "ipython3",
   "version": "3.8.8"
  }
 },
 "nbformat": 4,
 "nbformat_minor": 5
}